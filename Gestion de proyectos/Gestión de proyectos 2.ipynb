{
 "cells": [
  {
   "cell_type": "markdown",
   "metadata": {},
   "source": [
    "# Gestión de proyectos\n",
    "\n",
    "### `git`, `GitHub`, `GitKraken`\n",
    "\n",
    "<img style=\"float: left; margin: 15px 15px 15px 15px;\" src=\"http://conociendogithub.readthedocs.io/en/latest/_images/Git.png\" width=\"180\" height=\"50\" />\n",
    "<img style=\"float: left; margin: 15px 15px 15px 15px;\" src=\"https://c1.staticflickr.com/3/2238/13158675193_2892abac95_z.jpg\" title=\"github\" width=\"180\" height=\"50\" />\n",
    "<img style=\"float: left; margin: 15px 15px 15px 15px;\" src=\"https://www.gitkraken.com/downloads/brand-assets/gitkraken-keif-teal-sq.png\" title=\"gitkraken\" width=\"180\" height=\"50\" />"
   ]
  },
  {
   "cell_type": "markdown",
   "metadata": {},
   "source": [
    "## Repaso de `Github`\n",
    "- Branch\n",
    "- Commit\n",
    "- Pull request \\& Merge\n",
    "\n",
    "En `GitKraken`\n",
    "- Clone"
   ]
  },
  {
   "cell_type": "markdown",
   "metadata": {},
   "source": [
    "Continuación de los primeros pasos en `GitKraken`\n",
    "\n",
    "4. Picarle a la carpeta en la esquina superior izquierda. Tres opciones:\n",
    "    - *Open*: abrir un repositorio local ya existente.\n",
    "    - ** *Clone*: clonar un repositorio remoto.**\n",
    "    - *Init*: empezar a hacer control de versiones en un proyecto desde cero.\n",
    "5. Picarle en *Clone* (u *Open*). Como ya estamos autenticados en `GitHub`, aparecerán todos los repositorios disponibles en nuestra cuenta de `GitHub` (en este caso solo tendremos `hello-world`).\n",
    "    - En *Browse*, buscar el directorio/carpeta donde quieren que el repositorio sea clonado.\n",
    "    - Picar en `hello-world`.\n",
    "    - Picar en *Clone the repo*.\n",
    "6. Abrir el directorio `hello-world`, modificar el archivo `README.md` y guardar los cambios.\n",
    "    - Cuando volvamos a `GitKraken`, veremos que se ha actualizado la modificación.\n",
    "    - Picamos en el paso de la actualización y en la derecha veremos el archivo modificado.\n",
    "    - Picamos en `README.md` y podremos ver la modificación que hicimos en el archivo.\n",
    "    - Antes de llevar a cabo los cambios, ir al repositorio remoto en `GitHub` y ver que el archivo `README.md` no se ha modificado. Solo clonamos los archivos en el repositorio local.\n",
    "    - Volvemos a `GitKraken`, picamos en *Stage file* y comentamos los cambios.\n",
    "    - Picar en *Commit*.\n",
    "7. Revisar el árbol de cambios. Hay un ícono que revela hasta donde están los cambios en `GitHub` y el otro revela que vamos un paso más adelante en el repositorio local. Este cambio aún no se hace en el repositorio remoto en `GitHub`.\n",
    "8. Para sincronizar los cambios en el repositorio de `GitHub` debemos picar en *Push* en la parte superior. Los íconos deberían juntarse.\n",
    "9. Ir a `GitHub` y ver que el cambio en efecto se realizó.\n",
    "10. Estando en `GitHub` en el repositorio `hello-world`, picar en *Create new file*.\n",
    "    - Normalmente la gente no crea ni edita archivos en `GitHub`, sin embargo esta será nuestra forma de emular que alguien incluyó un nuevo archivo en nuestro proyecto.\n",
    "    - Darle algún nombre al archivo y poner algo en el cuerpo de texto.\n",
    "    - Poner un mensaje describiendo que se añadió un nuevo archivo.\n",
    "    - Picar en *Commit new file*.\n",
    "    - Ver que en el repositorio remoto en `GitHub` ya existe el nuevo archivo, pero en el repositorio local no.\n",
    "11. Revisar el arbol de cambios en `GitKraken`. Vemos que ahora el ícono que revela los cambios en `GitHub` va un paso adelante del ícono que revela los cambios en el repositorio local.\n",
    "12. Para incorporar los cambios del repositorio remoto en el repositorio local debemos picar en *Pull* en la parte superior. De nuevo, los íconos deberían juntarse.\n",
    "13. Revisar el repositorio local para ver que el nuevo archivo ya está ahí."
   ]
  },
  {
   "cell_type": "markdown",
   "metadata": {},
   "source": [
    "#### Ejercicio\n",
    ">Añadir un archivo nuevo creando un *Branch* en **GitKraken**"
   ]
  },
  {
   "cell_type": "markdown",
   "metadata": {},
   "source": [
    "___\n",
    "## Forking\n",
    "Una bifurcación (*fork*) es una copia de un repositorio. Bifurcar un repositorio te permite experimentar cambios libremente sin afectar el proyecto original.\n",
    "\n",
    "Existen varias aplicaciones del *Forking*:\n",
    "\n",
    "### Seguir un proyecto de otra persona\n",
    "Como ejemplo, van a seguir el proyecto de la asignatura **SimMat2020P**.\n",
    "\n",
    "Los siguientes pasos nos enseñarán como mantener nuestro repositorio local actualizado con el repositorio de la asignatura.\n",
    "1. Entrar al repositorio https://github.com/ArellanoMCarlos/SimMat2020P.\n",
    "2. En la esquina superior derecha, dar click en *fork* y esperar un momento. Esta acción copia en su cuenta de `GitHub` un repositorio idéntico al de la materia (con el mismo nombre).\n",
    "3. Desde `GitKraken`, clonar el repositorio (el que ya está en su cuenta).\n",
    "4. En la pestaña *REMOTE* dar click en el signo `+`.\n",
    "    - Picar en `GitHub`.\n",
    "    - Desplegar la pestaña y elegir ArellanoMCarlos/SimMat2020P.\n",
    "    - Picar en *Add remote*.\n",
    "5. <font color=red>Añadiré un nuevo archvo en el repositorio de la materia y ustedes verán qué pasa en `GitKraken`</font>.\n",
    "6. Arrastrar el repositorio remoto ajeno a la rama *master* y dar click en la opción *Merge ArellanoMCarlos/master into master*. Ya el repositorio local está actualizado.\n",
    "7. Para actualizar el repositorio remoto propio hacer un *push*.\n",
    "\n",
    "### Proyectos colaborativos\n",
    "Normalmente, los *forks* se usan para proponer cambios en el proyecto de otra persona (hacer proyectos colaborativos).\n",
    "\n",
    "<font color=red>Hacer un cambio en el repositorio propio y mostrar como hacer el *pull request* y el *merge*</font>.\n",
    "\n",
    "**Referencias:**\n",
    "- https://help.github.com/articles/fork-a-repo/\n",
    "- https://guides.github.com/activities/forking/"
   ]
  }
 ],
 "metadata": {
  "kernelspec": {
   "display_name": "Python 3",
   "language": "python",
   "name": "python3"
  },
  "language_info": {
   "codemirror_mode": {
    "name": "ipython",
    "version": 3
   },
   "file_extension": ".py",
   "mimetype": "text/x-python",
   "name": "python",
   "nbconvert_exporter": "python",
   "pygments_lexer": "ipython3",
   "version": "3.6.6"
  }
 },
 "nbformat": 4,
 "nbformat_minor": 2
}
